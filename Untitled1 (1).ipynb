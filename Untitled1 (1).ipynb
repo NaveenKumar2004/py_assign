{
  "nbformat": 4,
  "nbformat_minor": 0,
  "metadata": {
    "colab": {
      "name": "Untitled1.ipynb",
      "provenance": [],
      "collapsed_sections": []
    },
    "kernelspec": {
      "name": "python3",
      "display_name": "Python 3"
    },
    "language_info": {
      "name": "python"
    }
  },
  "cells": [
    {
      "cell_type": "code",
      "metadata": {
        "colab": {
          "base_uri": "https://localhost:8080/"
        },
        "id": "Ya55QWex4lov",
        "outputId": "66ca6bde-0b99-4cf1-92c5-ae220a0733de"
      },
      "source": [
        "def product(a,b,c):\n",
        "  print(a*b*c)\n",
        "a=int(input('enter a value'))\n",
        "b=int(input('enter a value'))\n",
        "c=int(input('enter a value'))  \n",
        "product(a,b,c)"
      ],
      "execution_count": null,
      "outputs": [
        {
          "output_type": "stream",
          "text": [
            "enter a value1\n",
            "enter a value5\n",
            "enter a value8\n",
            "40\n"
          ],
          "name": "stdout"
        }
      ]
    },
    {
      "cell_type": "code",
      "metadata": {
        "colab": {
          "base_uri": "https://localhost:8080/"
        },
        "id": "6bfSpy5H5Tyf",
        "outputId": "aea46594-c008-4057-b8a0-25112c85a6ec"
      },
      "source": [
        "def chenai(a,b,c=5):\n",
        "  print(a*b*c)\n",
        "a=int(input('enter a value:'))  \n",
        "b=int(input('enter a value:'))\n",
        "chenai(a,b,)\n",
        "\n"
      ],
      "execution_count": 2,
      "outputs": [
        {
          "output_type": "stream",
          "text": [
            "enter a value:4\n",
            "enter a value:3\n",
            "60\n"
          ],
          "name": "stdout"
        }
      ]
    },
    {
      "cell_type": "code",
      "metadata": {
        "id": "6HEmgjqD7FQN",
        "colab": {
          "base_uri": "https://localhost:8080/",
          "height": 129
        },
        "outputId": "87446eae-273e-4d9b-ec6a-77752319f0d0"
      },
      "source": [
        "def fruit_name (food) \n",
        " print('fruits')\n",
        "fruits=['Apple','mango','orange','kiwi']\n",
        "new_list=[]\n",
        "for i in fruits:\n",
        "  if 'a' not in i:\n",
        "    i.append(new_list)\n",
        "    print(new_list)    "
      ],
      "execution_count": 12,
      "outputs": [
        {
          "output_type": "error",
          "ename": "SyntaxError",
          "evalue": "ignored",
          "traceback": [
            "\u001b[0;36m  File \u001b[0;32m\"<ipython-input-12-e07e85e5f327>\"\u001b[0;36m, line \u001b[0;32m1\u001b[0m\n\u001b[0;31m    def fruit_name (food)\u001b[0m\n\u001b[0m                          ^\u001b[0m\n\u001b[0;31mSyntaxError\u001b[0m\u001b[0;31m:\u001b[0m invalid syntax\n"
          ]
        }
      ]
    },
    {
      "cell_type": "code",
      "metadata": {
        "id": "uH7-9m-qkxxo"
      },
      "source": [
        ""
      ],
      "execution_count": null,
      "outputs": []
    }
  ]
}