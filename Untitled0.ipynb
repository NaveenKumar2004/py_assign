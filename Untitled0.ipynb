{
  "nbformat": 4,
  "nbformat_minor": 0,
  "metadata": {
    "colab": {
      "name": "Untitled0.ipynb",
      "provenance": []
    },
    "kernelspec": {
      "name": "python3",
      "display_name": "Python 3"
    },
    "language_info": {
      "name": "python"
    }
  },
  "cells": [
    {
      "cell_type": "code",
      "metadata": {
        "colab": {
          "base_uri": "https://localhost:8080/"
        },
        "id": "l3pF2wC-qiAE",
        "outputId": "2414f366-162c-4144-c85f-3133fa25a1a9"
      },
      "source": [
        "#1.leap year\n",
        "year=int(input('enter a year:'))\n",
        "if year%4==0:\n",
        "    print('leap year')\n",
        "else:\n",
        "    print('not a leap year')\n",
        "\n",
        "    "
      ],
      "execution_count": 1,
      "outputs": [
        {
          "output_type": "stream",
          "text": [
            "enter a year:2022\n",
            "not a leap year\n"
          ],
          "name": "stdout"
        }
      ]
    },
    {
      "cell_type": "code",
      "metadata": {
        "colab": {
          "base_uri": "https://localhost:8080/"
        },
        "id": "5jhMNCFsq0s_",
        "outputId": "cbe3f2ea-e4c8-4348-cd8d-a4670a2f3b8d"
      },
      "source": [
        "#2.string manipulation\n",
        "a='bishop heber'\n",
        "c=len(a)\n",
        "print(c)\n",
        "c=a.upper()\n",
        "print(c)\n",
        "d=a.capitalize()\n",
        "print(d)\n",
        "\n"
      ],
      "execution_count": 2,
      "outputs": [
        {
          "output_type": "stream",
          "text": [
            "12\n",
            "BISHOP HEBER\n",
            "Bishop heber\n"
          ],
          "name": "stdout"
        }
      ]
    },
    {
      "cell_type": "code",
      "metadata": {
        "colab": {
          "base_uri": "https://localhost:8080/"
        },
        "id": "J7QJRK7urLTp",
        "outputId": "9a8fa366-c6b0-43f1-ed05-51278bbe1ad4"
      },
      "source": [
        "#3.looping\n",
        "for i in range(1,9,2):\n",
        "    print(i)"
      ],
      "execution_count": 3,
      "outputs": [
        {
          "output_type": "stream",
          "text": [
            "1\n",
            "3\n",
            "5\n",
            "7\n"
          ],
          "name": "stdout"
        }
      ]
    },
    {
      "cell_type": "code",
      "metadata": {
        "id": "Gtib0zgIrrSI"
      },
      "source": [
        "#4.list\n",
        "fruits=['apple','banana','cherry','kiwi','mango']\n",
        "a=[]\n",
        "s=len(fruits)"
      ],
      "execution_count": null,
      "outputs": []
    }
  ]
}