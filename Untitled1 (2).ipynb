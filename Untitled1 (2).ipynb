{
  "nbformat": 4,
  "nbformat_minor": 0,
  "metadata": {
    "colab": {
      "name": "Untitled1.ipynb",
      "provenance": [],
      "collapsed_sections": []
    },
    "kernelspec": {
      "name": "python3",
      "display_name": "Python 3"
    },
    "language_info": {
      "name": "python"
    }
  },
  "cells": [
    {
      "cell_type": "code",
      "metadata": {
        "colab": {
          "base_uri": "https://localhost:8080/"
        },
        "id": "Ya55QWex4lov",
        "outputId": "66ca6bde-0b99-4cf1-92c5-ae220a0733de"
      },
      "source": [
        "def product(a,b,c):\n",
        "  print(a*b*c)\n",
        "a=int(input('enter a value'))\n",
        "b=int(input('enter a value'))\n",
        "c=int(input('enter a value'))  \n",
        "product(a,b,c)"
      ],
      "execution_count": null,
      "outputs": [
        {
          "output_type": "stream",
          "text": [
            "enter a value1\n",
            "enter a value5\n",
            "enter a value8\n",
            "40\n"
          ],
          "name": "stdout"
        }
      ]
    },
    {
      "cell_type": "code",
      "metadata": {
        "id": "6bfSpy5H5Tyf",
        "colab": {
          "base_uri": "https://localhost:8080/"
        },
        "outputId": "12c0b8b2-7ff1-49c3-fd58-57d7abb2357f"
      },
      "source": [
        "def chenai(a,b,c=5):\n",
        "  print(a*b*c)\n",
        "a=int(input('enter a value:'))  \n",
        "b=int(input('enter a value:'))\n",
        "chenai(a,b)\n",
        "\n"
      ],
      "execution_count": 1,
      "outputs": [
        {
          "output_type": "stream",
          "text": [
            "enter a value:5\n",
            "enter a value:2\n",
            "50\n"
          ],
          "name": "stdout"
        }
      ]
    },
    {
      "cell_type": "code",
      "metadata": {
        "id": "uH7-9m-qkxxo",
        "colab": {
          "base_uri": "https://localhost:8080/"
        },
        "outputId": "2a6cdda3-ec40-4119-9e7c-320c6f9996eb"
      },
      "source": [
        "fruits=['apple','mango','kiwi']\n",
        "new_list=[]\n",
        "for i in fruits:\n",
        "    if 'a' not in i :\n",
        "      new_list.append(i)\n",
        "print(new_list)\n"
      ],
      "execution_count": 1,
      "outputs": [
        {
          "output_type": "stream",
          "text": [
            "['kiwi']\n"
          ],
          "name": "stdout"
        }
      ]
    }
  ]
}