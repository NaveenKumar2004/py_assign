{
  "nbformat": 4,
  "nbformat_minor": 0,
  "metadata": {
    "colab": {
      "name": "Untitled2.ipynb",
      "provenance": []
    },
    "kernelspec": {
      "name": "python3",
      "display_name": "Python 3"
    },
    "language_info": {
      "name": "python"
    }
  },
  "cells": [
    {
      "cell_type": "code",
      "metadata": {
        "colab": {
          "base_uri": "https://localhost:8080/"
        },
        "id": "1_Gknj4__eHW",
        "outputId": "77b5f000-4c25-43d6-c029-eb46ee0ac42c"
      },
      "source": [
        "#Q.1\n",
        "a=5\n",
        "b=4\n",
        "def my_fun(a,b):\n",
        "  print(a+b)\n",
        "my_fun(a,b)"
      ],
      "execution_count": null,
      "outputs": [
        {
          "output_type": "stream",
          "text": [
            "9\n"
          ],
          "name": "stdout"
        }
      ]
    },
    {
      "cell_type": "code",
      "metadata": {
        "colab": {
          "base_uri": "https://localhost:8080/"
        },
        "id": "i8QbxQkTAImy",
        "outputId": "69cd7104-c5ce-490f-bd9f-10e95fd68268"
      },
      "source": [
        "#Q.2\n",
        "a=int(input('enter a number:'))\n",
        "b=int(input('enter a number:'))\n",
        "def my_fun(a,b):\n",
        "  print(a+b)\n",
        "my_fun(a,b)  "
      ],
      "execution_count": null,
      "outputs": [
        {
          "output_type": "stream",
          "text": [
            "enter a number:5\n",
            "enter a number:4\n",
            "9\n"
          ],
          "name": "stdout"
        }
      ]
    },
    {
      "cell_type": "markdown",
      "metadata": {
        "id": "bZMYH659C9AD"
      },
      "source": [
        ""
      ]
    },
    {
      "cell_type": "code",
      "metadata": {
        "colab": {
          "base_uri": "https://localhost:8080/"
        },
        "id": "sXKwfdnqBEQv",
        "outputId": "c78c81c5-b9e8-4106-d9fb-e8198d1d19b1"
      },
      "source": [
        "#Q.3\n",
        "def my_fun(a):\n",
        "  print(a**2)\n",
        "a=int(input('enter a number'))  \n",
        "my_fun(a)\n"
      ],
      "execution_count": null,
      "outputs": [
        {
          "output_type": "stream",
          "text": [
            "enter a number6\n",
            "36\n"
          ],
          "name": "stdout"
        }
      ]
    },
    {
      "cell_type": "code",
      "metadata": {
        "colab": {
          "base_uri": "https://localhost:8080/"
        },
        "id": "nKHaHsA3CmgQ",
        "outputId": "813e76bd-1fc5-4127-a971-d221dbab689a"
      },
      "source": [
        "#Q.4\n",
        "def my_fun(a):\n",
        "  print(a**2)\n",
        "  print(a**3)\n",
        "a=int(input('enter a number'))\n",
        "my_fun(a) "
      ],
      "execution_count": null,
      "outputs": [
        {
          "output_type": "stream",
          "text": [
            "enter a number3\n",
            "9\n",
            "27\n"
          ],
          "name": "stdout"
        }
      ]
    },
    {
      "cell_type": "markdown",
      "metadata": {
        "id": "NXwr7mCFLDgg"
      },
      "source": [
        ""
      ]
    },
    {
      "cell_type": "code",
      "metadata": {
        "colab": {
          "base_uri": "https://localhost:8080/"
        },
        "id": "Utg68BHbLFSd",
        "outputId": "bc0ad9ab-eb07-41d9-81c4-4c1f224a2957"
      },
      "source": [
        "#Q.5\n",
        "a=int(input('enter a number'))\n",
        "b=int(input('enter a number'))\n",
        "def my_fun(a,b):\n",
        "  print(a+b)\n",
        "my_fun(a,b)  \n",
        "def my_fun(a,b):\n",
        "  print(a*b)\n",
        "my_fun(a,b)  \n",
        "def my_fun(a,b):\n",
        "  print(a-b) \n",
        "my_fun(a,b)\n",
        "def my_fun(a,b):\n",
        "  print(a/b) \n",
        "my_fun(a,b)  "
      ],
      "execution_count": null,
      "outputs": [
        {
          "output_type": "stream",
          "text": [
            "enter a number6\n",
            "enter a number3\n",
            "9\n",
            "18\n",
            "3\n",
            "2.0\n"
          ],
          "name": "stdout"
        }
      ]
    },
    {
      "cell_type": "code",
      "metadata": {
        "colab": {
          "base_uri": "https://localhost:8080/"
        },
        "id": "KqKLuJ0AOX7Z",
        "outputId": "776b0862-e630-48df-a615-366f9efcf7b2"
      },
      "source": [
        "str=('naveenkumar')\n",
        "print(str.isalpha())"
      ],
      "execution_count": null,
      "outputs": [
        {
          "output_type": "stream",
          "text": [
            "True\n"
          ],
          "name": "stdout"
        }
      ]
    },
    {
      "cell_type": "code",
      "metadata": {
        "colab": {
          "base_uri": "https://localhost:8080/"
        },
        "id": "V2Z6jqP4Rn8x",
        "outputId": "fc70aed0-1f70-4cff-cf5f-eb28956f00a9"
      },
      "source": [
        "str=('NAVEEN')\n",
        "print(str.islower())\n"
      ],
      "execution_count": null,
      "outputs": [
        {
          "output_type": "stream",
          "text": [
            "False\n"
          ],
          "name": "stdout"
        }
      ]
    },
    {
      "cell_type": "code",
      "metadata": {
        "id": "7qsK_m9iRwhN"
      },
      "source": [
        "|"
      ],
      "execution_count": null,
      "outputs": []
    }
  ]
}